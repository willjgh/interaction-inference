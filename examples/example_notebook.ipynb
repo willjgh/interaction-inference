{
 "cells": [
  {
   "cell_type": "markdown",
   "metadata": {},
   "source": [
    "# Interaction Inference\n",
    "\n",
    "This notebook walks through the main functionality of the package and provides some background.\n",
    "\n",
    "## Background\n",
    "\n",
    "Gene expression is a process that occurs within cells where sections of DNA are 'transcribed' into copies called transcripts that carry information, such as how to produce proteins, to the cell machinery where they are 'translated' into functional products (Or a wide variety of other processes, this is a very simplified explanation [see more here.](https://www.genome.gov/genetics-glossary/Gene-Expression))\n",
    "\n",
    "However, genes do not act independently and often interact with each other to regulate transcription, forming large and complex 'gene regulatory networks'. The package focuses on the problem of detecting if two genes are interacting given observations of their transcriptional behaviour.\n",
    "\n",
    "We focus on a simple 'birth-death interaction' model of transcription in the gene pair, a stochastic reaction network (markov chain) where transcripts from each gene, $X_{1}$ and $X_{2}$, are produced (birth), degraded (death) and can regulate each other:\n",
    "\n",
    "$$ \\varnothing \\stackrel{k_{tx, 1}}\\longrightarrow X_{1} \\qquad \\varnothing \\stackrel{k_{tx, 2}}\\longrightarrow X_{2} $$\n",
    "$$ X_{1} \\stackrel{k_{deg, 1}}\\longrightarrow \\varnothing \\qquad X_{2} \\stackrel{k_{deg, 2}}\\longrightarrow \\varnothing $$\n",
    "$$ X_{1} + X_{2} \\stackrel{k_{reg}}\\longrightarrow \\varnothing $$\n",
    "\n",
    "Detecting interaction then reduces to testing if a model with interaction strength $k_{reg} > 0$ is consistent with observed data.\n",
    "\n",
    "## Package overview\n",
    "\n",
    "This package implements two optimization based methods and a baseline correlation test for inference of interaction from datasets of transcripts. It also contains functions to simulate example datasets from the above 'birth-death interaction' model and to compute + display the classification performance of the methods using the true model parameters.\n",
    "\n",
    "The optimization methods use the bootstrap to estimate bounds on the distribution of observed transcripts, combining constraints from the model structure to produce an optimization problem over the model parameters. The 'Minimization' approach optimizes a lower bound on the interaction parameter, and if this is found to be > 0 can conclude evidence of interaction. The 'Hypothesis' approach assumes no interaction is present, fixing the parameter = 0, and tests the feasibility of the constraints under this assumption."
   ]
  },
  {
   "cell_type": "markdown",
   "metadata": {},
   "source": [
    "# Tutorial\n",
    "\n",
    "The package centers around a dataset class and classes for inference methods which can each be used with minimal setup, or fine tuned for more control"
   ]
  },
  {
   "cell_type": "code",
   "execution_count": null,
   "metadata": {},
   "outputs": [],
   "source": [
    "# import the dataset class\n",
    "from interaction_inference import Dataset\n",
    "\n",
    "# import inference method classes\n",
    "from interaction_inference import Hypothesis, Minimization, Correlation\n",
    "\n",
    "# import result analysis module\n",
    "from interaction_inference import results"
   ]
  },
  {
   "cell_type": "markdown",
   "metadata": {},
   "source": [
    "## Dataset"
   ]
  },
  {
   "cell_type": "markdown",
   "metadata": {},
   "source": [
    "Create an instance of the dataset class and simulate an example dataset"
   ]
  },
  {
   "cell_type": "code",
   "execution_count": null,
   "metadata": {},
   "outputs": [],
   "source": [
    "data = Dataset()\n",
    "\n",
    "data.simulate_dataset(\n",
    "    beta=0.9,\n",
    "    gene_pairs=50,\n",
    "    cells=1000\n",
    ")"
   ]
  },
  {
   "cell_type": "markdown",
   "metadata": {},
   "source": [
    "The parameter beta is the 'capture efficiency' of the observation method, a value of 0.9 means that each transcript in the cell has a 90% chance to be 'captured' by the single-cell-sequencing method used to measure transcript levels. A lower capture efficiency means less information is observed and it is harder to detect interaction, with values often as low as 6%.\n",
    "\n",
    "The pandas dataframes containing transcript values and model parameters for each gene pair can be saved and loaded as csv files:"
   ]
  },
  {
   "cell_type": "code",
   "execution_count": null,
   "metadata": {},
   "outputs": [],
   "source": [
    "data.store_dataset(\n",
    "    count_dataset_filename=\"example_transcript_dataset.csv\",\n",
    "    param_dataset_filename=\"example_parameter_dataset.csv\"\n",
    ")"
   ]
  },
  {
   "cell_type": "code",
   "execution_count": null,
   "metadata": {},
   "outputs": [],
   "source": [
    "data.load_dataset(\n",
    "    count_dataset_filename=\"example_transcript_dataset.csv\",\n",
    "    param_dataset_filename=\"example_parameter_dataset.csv\",\n",
    "    beta = 0.9\n",
    ")"
   ]
  },
  {
   "cell_type": "markdown",
   "metadata": {},
   "source": [
    "Display a scatter plot of the simulated parameters"
   ]
  },
  {
   "cell_type": "code",
   "execution_count": null,
   "metadata": {},
   "outputs": [],
   "source": [
    "results.scatter_parameters(data)"
   ]
  },
  {
   "cell_type": "markdown",
   "metadata": {},
   "source": [
    "## Inference\n",
    "\n",
    "To apply inference methods to a dataset create an instance of its class and pass the dataset object to the analysis method. The default settings for each method should perform well in most cases, but can easily be changed by modifying attributes of the instance."
   ]
  },
  {
   "cell_type": "code",
   "execution_count": null,
   "metadata": {},
   "outputs": [],
   "source": [
    "# instance of hypothesis class\n",
    "hyp = Hypothesis()\n",
    "\n",
    "# analyse dataset\n",
    "hyp.analyse_dataset(data)"
   ]
  },
  {
   "cell_type": "code",
   "execution_count": null,
   "metadata": {},
   "outputs": [],
   "source": [
    "# instance of minimization class\n",
    "minz = Minimization()\n",
    "\n",
    "# analyse dataset\n",
    "minz.analyse_dataset(data)"
   ]
  },
  {
   "cell_type": "code",
   "execution_count": null,
   "metadata": {},
   "outputs": [],
   "source": [
    "# instance of correlation class\n",
    "corr = Correlation()\n",
    "\n",
    "# analyse dataset\n",
    "corr.analyse_dataset(data)"
   ]
  },
  {
   "cell_type": "markdown",
   "metadata": {},
   "source": [
    "## Result analysis\n",
    "\n",
    "The results of analysis are stored as a dictionary in the .result_dict attribute of the method object.\n",
    "\n",
    "If the true parameters are available (i.e. simulated dataset) the package provides functions to display a scatter plot of the classification into interating vs non-interacting gene pairs, and functions to compute classification performance metrics:"
   ]
  },
  {
   "cell_type": "markdown",
   "metadata": {},
   "source": [
    "### Scatter plots"
   ]
  },
  {
   "cell_type": "code",
   "execution_count": null,
   "metadata": {},
   "outputs": [],
   "source": [
    "results.scatter_results(hyp)"
   ]
  },
  {
   "cell_type": "code",
   "execution_count": null,
   "metadata": {},
   "outputs": [],
   "source": [
    "results.scatter_results(minz)"
   ]
  },
  {
   "cell_type": "code",
   "execution_count": null,
   "metadata": {},
   "outputs": [],
   "source": [
    "results.scatter_results(corr)"
   ]
  },
  {
   "cell_type": "markdown",
   "metadata": {},
   "source": [
    "### Performance metrics"
   ]
  },
  {
   "cell_type": "code",
   "execution_count": null,
   "metadata": {},
   "outputs": [],
   "source": [
    "results.classification_performance(hyp)"
   ]
  },
  {
   "cell_type": "code",
   "execution_count": null,
   "metadata": {},
   "outputs": [],
   "source": [
    "results.classification_performance(minz)"
   ]
  },
  {
   "cell_type": "code",
   "execution_count": null,
   "metadata": {},
   "outputs": [],
   "source": [
    "results.classification_performance(corr)"
   ]
  }
 ],
 "metadata": {
  "kernelspec": {
   "display_name": "IntInfTest_venv",
   "language": "python",
   "name": "python3"
  },
  "language_info": {
   "name": "python",
   "version": "3.11.4"
  }
 },
 "nbformat": 4,
 "nbformat_minor": 2
}
